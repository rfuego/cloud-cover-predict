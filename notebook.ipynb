{
 "cells": [
  {
   "cell_type": "markdown",
   "metadata": {},
   "source": [
    "Целью данного проекта является научиться обнаруживать облака на спутниковых снимках. \n",
    "В коде используются общедоступные спутниковые данные с Sentinel-2, которые позволяют получать многоспектральные изображения в широком диапазоне с высоким разрешением. Для каждого фрагмента данные разделены на 13 спектральных диапазонов, охватывающих весь видимый спектр, ближнюю инфракрасную область и инфракрасное излучение."
   ]
  },
  {
   "cell_type": "markdown",
   "metadata": {},
   "source": [
    "В процессе исследования будет изучено:\n",
    "- изучение данных\n",
    "- подготовка данных\n",
    "- написание кода\n",
    "- построение модели\n",
    "- подгонка модели\n",
    "- подготовка итогово кода проекта"
   ]
  },
  {
   "cell_type": "code",
   "execution_count": 2,
   "metadata": {},
   "outputs": [],
   "source": [
    "%load_ext autoreload\n",
    "%autoreload 2"
   ]
  },
  {
   "cell_type": "code",
   "execution_count": 5,
   "metadata": {},
   "outputs": [],
   "source": [
    "import shutil\n",
    "\n",
    "import matplotlib.pyplot as plt\n",
    "import numpy as np\n",
    "import pandas as pd\n",
    "from pandas_path import path\n",
    "from pathlib import Path\n",
    "from PIL import Image\n",
    "import pytorch_lightning as pl\n",
    "import torch"
   ]
  },
  {
   "cell_type": "markdown",
   "metadata": {},
   "source": [
    "ИЗУЧЕНИЕ ДАННЫХ"
   ]
  },
  {
   "cell_type": "markdown",
   "metadata": {},
   "source": [
    "Сначала загрузим все данные"
   ]
  },
  {
   "cell_type": "markdown",
   "metadata": {},
   "source": [
    "Обучающие данные состоят из \"фишек\". Каждая фишка представляет собой изображение определенной местности, снятое в определенный момент времени. С каждой фишкой связано по четыре изображения. "
   ]
  },
  {
   "cell_type": "code",
   "execution_count": null,
   "metadata": {},
   "outputs": [],
   "source": [
    "DATA_DIR = Path.cwd().parent.resolve() / \"data/final/public\"\n",
    "TRAIN_FEATURES = DATA_DIR / \"train_features\"\n",
    "TRAIN_LABELS = DATA_DIR / \"train_labels\"\n",
    "\n",
    "assert TRAIN_FEATURES.exists()"
   ]
  },
  {
   "cell_type": "markdown",
   "metadata": {},
   "source": [
    "Каждое изображение в \"фишке\" содержит фото в различном диапазоне длин волн, или еще называют \"band\". Например, band B02 для каждой фишки показывает интенсивность видимого синего света, длина волны которого составляет около 492 нанометров (нм). Список band'ов представлен ниже:"
   ]
  },
  {
   "cell_type": "markdown",
   "metadata": {},
   "source": [
    "B02 \tBlue visible light \t    497 nm\n",
    "B03 \tGreen visible light \t560 nm\n",
    "B04 \tRed visible light \t    665 nm\n",
    "B08 \tNear infrared light \t835 nm"
   ]
  },
  {
   "cell_type": "markdown",
   "metadata": {},
   "source": [
    "Зададим глобальную переменную со списком band в обучающих данных, чтобы было проще проводить по ним итерацию."
   ]
  },
  {
   "cell_type": "code",
   "execution_count": null,
   "metadata": {},
   "outputs": [],
   "source": [
    "BANDS = [\"B02\", \"B03\", \"B04\", \"B08\"]"
   ]
  }
 ],
 "metadata": {
  "kernelspec": {
   "display_name": ".venv",
   "language": "python",
   "name": "python3"
  },
  "language_info": {
   "codemirror_mode": {
    "name": "ipython",
    "version": 3
   },
   "file_extension": ".py",
   "mimetype": "text/x-python",
   "name": "python",
   "nbconvert_exporter": "python",
   "pygments_lexer": "ipython3",
   "version": "3.12.2"
  }
 },
 "nbformat": 4,
 "nbformat_minor": 2
}
