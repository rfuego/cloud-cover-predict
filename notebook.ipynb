{
 "cells": [
  {
   "cell_type": "markdown",
   "metadata": {},
   "source": [
    "Целью данного проекта является научиться обнаруживать облака на спутниковых снимках. \n",
    "В коде используются общедоступные спутниковые данные с Sentinel-2, которые позволяют получать многоспектральные изображения в широком диапазоне с высоким разрешением. Для каждого фрагмента данные разделены на 13 спектральных диапазонов, охватывающих весь видимый спектр, ближнюю инфракрасную область и инфракрасное излучение."
   ]
  },
  {
   "cell_type": "markdown",
   "metadata": {},
   "source": [
    "В процессе исследования будет изучено:\n",
    "- изучение данных\n",
    "- подготовка данных\n",
    "- написание кода\n",
    "- построение модели\n",
    "- подгонка модели\n",
    "- подготовка итогово кода проекта"
   ]
  },
  {
   "cell_type": "code",
   "execution_count": 2,
   "metadata": {},
   "outputs": [],
   "source": [
    "%load_ext autoreload\n",
    "%autoreload 2"
   ]
  },
  {
   "cell_type": "code",
   "execution_count": 5,
   "metadata": {},
   "outputs": [],
   "source": [
    "import shutil\n",
    "\n",
    "import matplotlib.pyplot as plt\n",
    "import numpy as np\n",
    "import pandas as pd\n",
    "from pandas_path import path\n",
    "from pathlib import Path\n",
    "from PIL import Image\n",
    "import pytorch_lightning as pl\n",
    "import torch"
   ]
  },
  {
   "cell_type": "markdown",
   "metadata": {},
   "source": [
    "ИЗУЧЕНИЕ ДАННЫХ"
   ]
  },
  {
   "cell_type": "markdown",
   "metadata": {},
   "source": [
    "Сначала загрузим все данные"
   ]
  },
  {
   "cell_type": "markdown",
   "metadata": {},
   "source": [
    "Тренировочные данные состоят из 11 748 \"фишек\". Каждая фишка представляет собой изображение определенной местности, снятое в определенный момент времени."
   ]
  }
 ],
 "metadata": {
  "kernelspec": {
   "display_name": ".venv",
   "language": "python",
   "name": "python3"
  },
  "language_info": {
   "codemirror_mode": {
    "name": "ipython",
    "version": 3
   },
   "file_extension": ".py",
   "mimetype": "text/x-python",
   "name": "python",
   "nbconvert_exporter": "python",
   "pygments_lexer": "ipython3",
   "version": "3.12.2"
  }
 },
 "nbformat": 4,
 "nbformat_minor": 2
}
